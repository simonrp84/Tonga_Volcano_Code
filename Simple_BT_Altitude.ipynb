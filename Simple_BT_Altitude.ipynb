{
 "cells": [
  {
   "cell_type": "code",
   "execution_count": 1,
   "id": "062f20da",
   "metadata": {},
   "outputs": [],
   "source": [
    "%load_ext autoreload\n",
    "%autoreload 2\n",
    "%matplotlib notebook\n",
    "\n",
    "from skimage.morphology import binary_erosion\n",
    "from scipy.ndimage import binary_fill_holes\n",
    "import Scripts.BT_Height_Helpers as BTH\n",
    "from skimage.measure import label\n",
    "import matplotlib.pyplot as plt\n",
    "from tqdm.auto import tqdm\n",
    "from satpy import Scene\n",
    "%matplotlib notebook\n",
    "from glob import glob\n",
    "import numpy as np\n",
    "\n",
    "import warnings\n",
    "warnings.filterwarnings('ignore')"
   ]
  },
  {
   "cell_type": "code",
   "execution_count": 2,
   "id": "d3055204",
   "metadata": {},
   "outputs": [],
   "source": [
    "# Folder containing satellite data\n",
    "indir_sat = 'E:/data/HIM/'\n",
    "\n",
    "# Filename of CSV file with ECMWF profile\n",
    "infile_ecm = \"ECM.csv\"\n",
    "\n",
    "# Directory for output\n",
    "odir_top = 'C:/Users/EUMETCAST#/Desktop/Volcano/'\n",
    "height_subdir = f'{odir_top}/Height_Out/'\n",
    "pres_subdir = f'{odir_top}/Pres_Out/'\n",
    "label_subdir = f'{odir_top}/Label/'\n",
    "bt_subdir = f'{odir_top}/BTemp/'\n",
    "\n",
    "# Band to process: B13 is 10.3 micron window channel\n",
    "procband = 'B13'\n",
    "\n",
    "# Window size in pixels for finding label of central plume\n",
    "dpix = 10\n",
    "\n",
    "# Set brightness temperature threshold (in K) for filtering\n",
    "bt_thresh = 250\n",
    "\n",
    "# Set secondary threshold for tropopause plume\n",
    "bt_thresh_trop = 210\n",
    "\n",
    "# This sets up a bounding box around the volcano in which we work\n",
    "c_lat = -20.32\n",
    "c_lon = -175.23\n",
    "deller = 7.5\n",
    "bbox = (c_lon - deller,\n",
    "        c_lat - deller, \n",
    "        c_lon + deller,\n",
    "        c_lat + deller)\n",
    "\n",
    "bbox = (-178.75, -24.5, -171.5, -17.3)"
   ]
  },
  {
   "cell_type": "code",
   "execution_count": 3,
   "id": "082d6b82",
   "metadata": {},
   "outputs": [],
   "source": [
    "# Get ECMWF data from file\n",
    "ecm_dt = np.loadtxt(open(infile_ecm, \"rb\"), delimiter=\",\", skiprows=1)\n",
    "# Flip the array so lowest altitude is in position zero\n",
    "ecm_dt = np.flipud(ecm_dt)"
   ]
  },
  {
   "cell_type": "code",
   "execution_count": 4,
   "id": "a2eee92d",
   "metadata": {},
   "outputs": [],
   "source": [
    "# Find data files to process\n",
    "firstfiles = glob(f'{indir_sat}/*{procband}*S07*.DAT')"
   ]
  },
  {
   "cell_type": "code",
   "execution_count": 5,
   "id": "be3ea0da",
   "metadata": {
    "scrolled": true
   },
   "outputs": [
    {
     "data": {
      "application/vnd.jupyter.widget-view+json": {
       "model_id": "4d8a7edca3fc4673a331c157d98a9ffc",
       "version_major": 2,
       "version_minor": 0
      },
      "text/plain": [
       "  0%|          | 0/83 [00:00<?, ?it/s]"
      ]
     },
     "metadata": {},
     "output_type": "display_data"
    }
   ],
   "source": [
    "# Loop over files and process\n",
    "for inf in tqdm(firstfiles):\n",
    "    # Find date time string to load remaining files\n",
    "    pos = inf.find('_B13_')\n",
    "    dtstr = inf[pos-13:pos]\n",
    "    curfiles = glob(f'{indir_sat}/*{dtstr}*{procband}*.DAT')\n",
    "    \n",
    "    # Make satpy scene\n",
    "    scn = Scene(curfiles, reader='ahi_hsd')\n",
    "    scn.load([procband])\n",
    "    scn2 = scn.crop(ll_bbox=bbox)\n",
    "    \n",
    "    # Get the BT data and threshold it to find plume\n",
    "    bt_data = np.array(scn2[procband].data)\n",
    "    mask = np.where(bt_data < bt_thresh, 1, 0)\n",
    "    \n",
    "    # Erode edges and fill holes in mask\n",
    "    mask = binary_erosion(mask)\n",
    "    mask = binary_fill_holes(mask)\n",
    "    \n",
    "    # Now label it into objects\n",
    "    labels = label(mask)\n",
    "    shaper = labels.shape\n",
    "    \n",
    "    # Find the object near the middle of the scene, which will be the plume\n",
    "    c_x = np.round(shaper[0]/2).astype(int)\n",
    "    c_y = np.round(shaper[1]/2).astype(int)\n",
    "    c_pt = np.median(labels[c_x-dpix:c_x+dpix, c_y-dpix:c_y+dpix])\n",
    "    labels2 = np.where(labels==c_pt, 1, 0)\n",
    "    \n",
    "    # Compute the height and pressure of each pixel    \n",
    "    out_height, out_pres = BTH.est_height_and_pressure(bt_data, ecm_dt, labels2)\n",
    "    \n",
    "    # Save the results\n",
    "    scn2['labels'] = scn2[procband].copy()\n",
    "    scn2['labels'].data = labels2\n",
    "    scn2['height'] = scn2[procband].copy()\n",
    "    scn2['height'].data = out_height\n",
    "    scn2['pres'] = scn2[procband].copy()\n",
    "    scn2['pres'].data = out_pres\n",
    "    scn2.save_dataset('labels', base_dir=label_subdir, writer='simple_image')\n",
    "    scn2.save_dataset('height', base_dir=height_subdir, dtype=np.float32, enhance=False)\n",
    "    scn2.save_dataset('pres', base_dir=pres_subdir, dtype=np.float32, enhance=False)\n",
    "    scn2.save_dataset(procband, base_dir=bt_subdir, dtype=np.float32, enhance=False)"
   ]
  },
  {
   "cell_type": "code",
   "execution_count": 45,
   "id": "f0287a30",
   "metadata": {},
   "outputs": [],
   "source": []
  }
 ],
 "metadata": {
  "kernelspec": {
   "display_name": "Python 3 (ipykernel)",
   "language": "python",
   "name": "python3"
  },
  "language_info": {
   "codemirror_mode": {
    "name": "ipython",
    "version": 3
   },
   "file_extension": ".py",
   "mimetype": "text/x-python",
   "name": "python",
   "nbconvert_exporter": "python",
   "pygments_lexer": "ipython3",
   "version": "3.8.12"
  },
  "varInspector": {
   "cols": {
    "lenName": 16,
    "lenType": 16,
    "lenVar": 40
   },
   "kernels_config": {
    "python": {
     "delete_cmd_postfix": "",
     "delete_cmd_prefix": "del ",
     "library": "var_list.py",
     "varRefreshCmd": "print(var_dic_list())"
    },
    "r": {
     "delete_cmd_postfix": ") ",
     "delete_cmd_prefix": "rm(",
     "library": "var_list.r",
     "varRefreshCmd": "cat(var_dic_list()) "
    }
   },
   "types_to_exclude": [
    "module",
    "function",
    "builtin_function_or_method",
    "instance",
    "_Feature"
   ],
   "window_display": false
  }
 },
 "nbformat": 4,
 "nbformat_minor": 5
}
