{
 "cells": [
  {
   "cell_type": "code",
   "execution_count": 9,
   "id": "b1f038a0",
   "metadata": {},
   "outputs": [
    {
     "ename": "ModuleNotFoundError",
     "evalue": "No module named 'mpl_toolkits.axes_grid'",
     "output_type": "error",
     "traceback": [
      "\u001b[1;31m---------------------------------------------------------------------------\u001b[0m",
      "\u001b[1;31mModuleNotFoundError\u001b[0m                       Traceback (most recent call last)",
      "Cell \u001b[1;32mIn [9], line 4\u001b[0m\n\u001b[0;32m      1\u001b[0m \u001b[38;5;28;01mimport\u001b[39;00m \u001b[38;5;21;01mmatplotlib\u001b[39;00m\n\u001b[0;32m      2\u001b[0m matplotlib\u001b[38;5;241m.\u001b[39muse(\u001b[38;5;124m\"\u001b[39m\u001b[38;5;124mPS\u001b[39m\u001b[38;5;124m\"\u001b[39m)\n\u001b[1;32m----> 4\u001b[0m \u001b[38;5;28;01mfrom\u001b[39;00m \u001b[38;5;21;01mmpl_toolkits\u001b[39;00m\u001b[38;5;21;01m.\u001b[39;00m\u001b[38;5;21;01maxes_grid\u001b[39;00m\u001b[38;5;21;01m.\u001b[39;00m\u001b[38;5;21;01minset_locator\u001b[39;00m \u001b[38;5;28;01mimport\u001b[39;00m inset_axes\n\u001b[0;32m      5\u001b[0m \u001b[38;5;28;01mimport\u001b[39;00m \u001b[38;5;21;01mmatplotlib\u001b[39;00m\u001b[38;5;21;01m.\u001b[39;00m\u001b[38;5;21;01mpyplot\u001b[39;00m \u001b[38;5;28;01mas\u001b[39;00m \u001b[38;5;21;01mplt\u001b[39;00m\n\u001b[0;32m      6\u001b[0m \u001b[38;5;28;01mimport\u001b[39;00m \u001b[38;5;21;01mcartopy\u001b[39;00m\u001b[38;5;21;01m.\u001b[39;00m\u001b[38;5;21;01mcrs\u001b[39;00m \u001b[38;5;28;01mas\u001b[39;00m \u001b[38;5;21;01mccrs\u001b[39;00m\n",
      "\u001b[1;31mModuleNotFoundError\u001b[0m: No module named 'mpl_toolkits.axes_grid'"
     ]
    }
   ],
   "source": [
    "import matplotlib\n",
    "matplotlib.use(\"PS\")\n",
    "\n",
    "from mpl_toolkits.axes_grid.inset_locator import inset_axes\n",
    "import matplotlib.pyplot as plt\n",
    "import cartopy.crs as ccrs\n",
    "from satpy import Scene\n",
    "from glob import glob\n",
    "import pandas as pd\n",
    "import numpy as np\n",
    "import importlib\n",
    "import aggdraw\n",
    "\n",
    "\n",
    "import warnings\n",
    "warnings.filterwarnings('ignore')"
   ]
  },
  {
   "cell_type": "code",
   "execution_count": 2,
   "id": "a7807732",
   "metadata": {},
   "outputs": [],
   "source": [
    "def setup_satpy(idir='./Sat_Data/HIM/'):\n",
    "    \"\"\"Load and crop a Himawari scene for plotting.\"\"\"\n",
    "    from satpy import Scene\n",
    "    from glob import glob\n",
    "    \n",
    "    bbox = (-176.5,\n",
    "            -21.6, \n",
    "            -174,\n",
    "            -19.7)\n",
    "    files = glob(idir + '*_0430_*.DAT')\n",
    "    scn = Scene(files, reader='ahi_hsd')\n",
    "    scn.load(['B03'])\n",
    "    scn2 = scn.crop(ll_bbox=bbox)\n",
    "    crs = scn2['B03'].attrs['area'].to_cartopy_crs()\n",
    "    return np.array(scn2['B03']), crs\n",
    "\n",
    "def get_posdata(infile='./Heights_0430.csv'):\n",
    "    \"\"\"Load the pixel position and height data for the AHI/AMI analysis\"\"\"\n",
    "    df = pd.read_csv(infile, skipinitialspace=True)\n",
    "    df.columns = df.columns.str.replace(' ','')\n",
    "    return df\n"
   ]
  },
  {
   "cell_type": "code",
   "execution_count": 3,
   "id": "72da28b1",
   "metadata": {},
   "outputs": [],
   "source": [
    "pix_data, crs = setup_satpy()\n",
    "pos_data = get_posdata()"
   ]
  },
  {
   "cell_type": "code",
   "execution_count": 8,
   "id": "f96e453a",
   "metadata": {},
   "outputs": [
    {
     "ename": "TypeError",
     "evalue": "matplotlib.transforms.Bbox.from_bounds() argument after * must be an iterable, not GeoAxesSubplot",
     "output_type": "error",
     "traceback": [
      "\u001b[1;31m---------------------------------------------------------------------------\u001b[0m",
      "\u001b[1;31mTypeError\u001b[0m                                 Traceback (most recent call last)",
      "Cell \u001b[1;32mIn [8], line 20\u001b[0m\n\u001b[0;32m     16\u001b[0m \u001b[38;5;66;03m# Create the colour bar. This is a faff as matplotlib is not good at this\u001b[39;00m\n\u001b[0;32m     17\u001b[0m \u001b[38;5;66;03m# First we create an inset axis, then another within that\u001b[39;00m\n\u001b[0;32m     18\u001b[0m \u001b[38;5;66;03m# The outer axis enables a background colour to be used, which helps readability\u001b[39;00m\n\u001b[0;32m     19\u001b[0m ticks \u001b[38;5;241m=\u001b[39m np\u001b[38;5;241m.\u001b[39mlinspace(\u001b[38;5;241m10\u001b[39m, \u001b[38;5;241m60\u001b[39m, \u001b[38;5;241m6\u001b[39m)\n\u001b[1;32m---> 20\u001b[0m cbbox \u001b[38;5;241m=\u001b[39m \u001b[43max\u001b[49m\u001b[38;5;241;43m.\u001b[39;49m\u001b[43minset_axes\u001b[49m\u001b[43m(\u001b[49m\u001b[43max\u001b[49m\u001b[43m,\u001b[49m\u001b[43m \u001b[49m\u001b[43mwidth\u001b[49m\u001b[38;5;241;43m=\u001b[39;49m\u001b[38;5;124;43m\"\u001b[39;49m\u001b[38;5;124;43m50\u001b[39;49m\u001b[38;5;124;43m%\u001b[39;49m\u001b[38;5;124;43m\"\u001b[39;49m\u001b[43m,\u001b[49m\u001b[43m \u001b[49m\u001b[43mheight\u001b[49m\u001b[38;5;241;43m=\u001b[39;49m\u001b[38;5;124;43m\"\u001b[39;49m\u001b[38;5;124;43m13\u001b[39;49m\u001b[38;5;124;43m%\u001b[39;49m\u001b[38;5;124;43m\"\u001b[39;49m\u001b[43m,\u001b[49m\u001b[43m \u001b[49m\u001b[43mloc\u001b[49m\u001b[38;5;241;43m=\u001b[39;49m\u001b[38;5;241;43m2\u001b[39;49m\u001b[43m)\u001b[49m\n\u001b[0;32m     21\u001b[0m cbbox\u001b[38;5;241m.\u001b[39mset_xticks([])\n\u001b[0;32m     22\u001b[0m cbbox\u001b[38;5;241m.\u001b[39mset_yticks([])\n",
      "File \u001b[1;32m~\\miniconda3\\lib\\site-packages\\matplotlib\\axes\\_axes.py:376\u001b[0m, in \u001b[0;36mAxes.inset_axes\u001b[1;34m(self, bounds, transform, zorder, **kwargs)\u001b[0m\n\u001b[0;32m    374\u001b[0m \u001b[38;5;66;03m# This puts the rectangle into figure-relative coordinates.\u001b[39;00m\n\u001b[0;32m    375\u001b[0m inset_locator \u001b[38;5;241m=\u001b[39m _TransformedBoundsLocator(bounds, transform)\n\u001b[1;32m--> 376\u001b[0m bounds \u001b[38;5;241m=\u001b[39m \u001b[43minset_locator\u001b[49m\u001b[43m(\u001b[49m\u001b[38;5;28;43mself\u001b[39;49m\u001b[43m,\u001b[49m\u001b[43m \u001b[49m\u001b[38;5;28;43;01mNone\u001b[39;49;00m\u001b[43m)\u001b[49m\u001b[38;5;241m.\u001b[39mbounds\n\u001b[0;32m    377\u001b[0m projection_class, pkw \u001b[38;5;241m=\u001b[39m \u001b[38;5;28mself\u001b[39m\u001b[38;5;241m.\u001b[39mfigure\u001b[38;5;241m.\u001b[39m_process_projection_requirements(\n\u001b[0;32m    378\u001b[0m         bounds, \u001b[38;5;241m*\u001b[39m\u001b[38;5;241m*\u001b[39mkwargs)\n\u001b[0;32m    379\u001b[0m inset_ax \u001b[38;5;241m=\u001b[39m projection_class(\u001b[38;5;28mself\u001b[39m\u001b[38;5;241m.\u001b[39mfigure, bounds, zorder\u001b[38;5;241m=\u001b[39mzorder, \u001b[38;5;241m*\u001b[39m\u001b[38;5;241m*\u001b[39mpkw)\n",
      "File \u001b[1;32m~\\miniconda3\\lib\\site-packages\\matplotlib\\axes\\_base.py:116\u001b[0m, in \u001b[0;36m_TransformedBoundsLocator.__call__\u001b[1;34m(self, ax, renderer)\u001b[0m\n\u001b[0;32m    111\u001b[0m \u001b[38;5;28;01mdef\u001b[39;00m \u001b[38;5;21m__call__\u001b[39m(\u001b[38;5;28mself\u001b[39m, ax, renderer):\n\u001b[0;32m    112\u001b[0m     \u001b[38;5;66;03m# Subtracting transSubfigure will typically rely on inverted(),\u001b[39;00m\n\u001b[0;32m    113\u001b[0m     \u001b[38;5;66;03m# freezing the transform; thus, this needs to be delayed until draw\u001b[39;00m\n\u001b[0;32m    114\u001b[0m     \u001b[38;5;66;03m# time as transSubfigure may otherwise change after this is evaluated.\u001b[39;00m\n\u001b[0;32m    115\u001b[0m     \u001b[38;5;28;01mreturn\u001b[39;00m mtransforms\u001b[38;5;241m.\u001b[39mTransformedBbox(\n\u001b[1;32m--> 116\u001b[0m         \u001b[43mmtransforms\u001b[49m\u001b[38;5;241;43m.\u001b[39;49m\u001b[43mBbox\u001b[49m\u001b[38;5;241;43m.\u001b[39;49m\u001b[43mfrom_bounds\u001b[49m\u001b[43m(\u001b[49m\u001b[38;5;241;43m*\u001b[39;49m\u001b[38;5;28;43mself\u001b[39;49m\u001b[38;5;241;43m.\u001b[39;49m\u001b[43m_bounds\u001b[49m\u001b[43m)\u001b[49m,\n\u001b[0;32m    117\u001b[0m         \u001b[38;5;28mself\u001b[39m\u001b[38;5;241m.\u001b[39m_transform \u001b[38;5;241m-\u001b[39m ax\u001b[38;5;241m.\u001b[39mfigure\u001b[38;5;241m.\u001b[39mtransSubfigure)\n",
      "\u001b[1;31mTypeError\u001b[0m: matplotlib.transforms.Bbox.from_bounds() argument after * must be an iterable, not GeoAxesSubplot"
     ]
    }
   ],
   "source": [
    "fig = plt.figure(figsize=(12, 9))\n",
    "ax = fig.add_subplot(1, 1, 1, projection=crs)\n",
    "\n",
    "ax.set_global()\n",
    "ax.imshow(pix_data, transform=crs, extent=crs.bounds, origin='upper', cmap='Greys_r')\n",
    "ax.gridlines(draw_labels=True,\n",
    "             dms=True,\n",
    "             x_inline=False,\n",
    "             y_inline=False,\n",
    "             linewidth=0.4)\n",
    "\n",
    "sc_plt = ax.scatter(pos_data['AHI_Lon'], pos_data['AHI_Lat'], c=pos_data['MeanHeight'], transform=ccrs.PlateCarree(), vmin=10, vmax=60)\n",
    "sc_plt = ax.scatter(-174.6798, -20.5851, c=54.96, transform=ccrs.PlateCarree(), vmin=10, vmax=60, marker='x', s=500)\n",
    "fig.tight_layout()\n",
    "\n",
    "# Create the colour bar. This is a faff as matplotlib is not good at this\n",
    "# First we create an inset axis, then another within that\n",
    "# The outer axis enables a background colour to be used, which helps readability\n",
    "ticks = np.linspace(10, 60, 6)\n",
    "cbbox = ax.inset_axes(ax, width=\"50%\", height=\"13%\", loc=2)\n",
    "cbbox.set_xticks([])\n",
    "cbbox.set_yticks([])\n",
    "[cbbox.spines[k].set_visible(False) for k in cbbox.spines]\n",
    "cbbox.tick_params(axis='both', left='off', top='off', right='off', bottom='off', labelleft='off', labeltop='off', labelright='off', labelbottom='off')\n",
    "# Make background white, but slightly transparent\n",
    "cbbox.set_facecolor([1,1,1,0.7])\n",
    "\n",
    "# Create the real colorbar axis within the above\n",
    "cbaxes = ax.inset_axes(cbbox, '96%', '40%', loc = 9)\n",
    "\n",
    "# Add the actual colourbar now\n",
    "cbar = plt.colorbar(sc_plt, cax=cbaxes, ticks=ticks, orientation='horizontal')\n",
    "cbar.set_label(\"Altitude (km)\", fontsize=14)\n",
    "plt.savefig('./Figures/Fig2.eps', format='eps', facecolor='white', bbox_inches='tight')\n",
    "plt.savefig('./Figures/Fig2.png', facecolor='white', bbox_inches='tight')"
   ]
  },
  {
   "cell_type": "code",
   "execution_count": null,
   "id": "fe7ee85a",
   "metadata": {},
   "outputs": [],
   "source": []
  }
 ],
 "metadata": {
  "kernelspec": {
   "display_name": "Python 3 (ipykernel)",
   "language": "python",
   "name": "python3"
  },
  "language_info": {
   "codemirror_mode": {
    "name": "ipython",
    "version": 3
   },
   "file_extension": ".py",
   "mimetype": "text/x-python",
   "name": "python",
   "nbconvert_exporter": "python",
   "pygments_lexer": "ipython3",
   "version": "3.10.6"
  },
  "varInspector": {
   "cols": {
    "lenName": 16,
    "lenType": 16,
    "lenVar": 40
   },
   "kernels_config": {
    "python": {
     "delete_cmd_postfix": "",
     "delete_cmd_prefix": "del ",
     "library": "var_list.py",
     "varRefreshCmd": "print(var_dic_list())"
    },
    "r": {
     "delete_cmd_postfix": ") ",
     "delete_cmd_prefix": "rm(",
     "library": "var_list.r",
     "varRefreshCmd": "cat(var_dic_list()) "
    }
   },
   "types_to_exclude": [
    "module",
    "function",
    "builtin_function_or_method",
    "instance",
    "_Feature"
   ],
   "window_display": false
  }
 },
 "nbformat": 4,
 "nbformat_minor": 5
}
